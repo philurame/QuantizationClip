{
 "cells": [
  {
   "cell_type": "code",
   "execution_count": 7,
   "metadata": {},
   "outputs": [],
   "source": [
    "import pandas as pd\n",
    "import json\n",
    "\n",
    "ERRORS = pd.read_csv('/home/mdnikolaev/philurame/Experiments/QuantizationClip/RES/ERRORS.csv', index_col=0)\n",
    "with open('/home/mdnikolaev/philurame/Experiments/QuantizationClip/RES/CLIP.json', 'r') as f:\n",
    "  CLIPS = json.load(f)"
   ]
  },
  {
   "cell_type": "code",
   "execution_count": 4,
   "metadata": {},
   "outputs": [],
   "source": [
    "# TODO (скоро досчитается)"
   ]
  },
  {
   "cell_type": "markdown",
   "metadata": {},
   "source": [
    "# [TEMP] CLIP calc"
   ]
  },
  {
   "cell_type": "code",
   "execution_count": null,
   "metadata": {},
   "outputs": [
    {
     "name": "stderr",
     "output_type": "stream",
     "text": [
      "/tmp/job-2328584/ipykernel_123502/1605200600.py:20: FutureWarning: You are using `torch.load` with `weights_only=False` (the current default value), which uses the default pickle module implicitly. It is possible to construct malicious pickle data which will execute arbitrary code during unpickling (See https://github.com/pytorch/pytorch/blob/main/SECURITY.md#untrusted-models for more details). In a future release, the default value for `weights_only` will be flipped to `True`. This limits the functions that could be executed during unpickling. Arbitrary objects will no longer be allowed to be loaded via this mode unless they are explicitly allowlisted by the user via `torch.serialization.add_safe_globals`. We recommend you start setting `weights_only=True` for any use case where you don't have full control of the loaded file. Please open an issue on GitHub for any issues related to this experimental feature.\n",
      "  latents = torch.load('/home/mdnikolaev/philurame/SDXL_METRICS/DATA/NONE/COCO_50/DDIM_LINEAR.pt')[:100]\n",
      "vae decoding...: 100%|██████████| 100/100 [00:28<00:00,  3.46it/s]\n",
      "CLIP...: 100%|██████████| 1/1 [00:06<00:00,  6.63s/it]\n"
     ]
    }
   ],
   "source": [
    "import torch, pickle, sys\n",
    "\n",
    "sys.path.append('/home/mdnikolaev/philurame/Experiments/QuantizationClip')\n",
    "from q_utils import *\n",
    "\n",
    "sys.path.append('/home/mdnikolaev/philurame/SDXL_METRICS')\n",
    "from main import load_pipe, load_data\n",
    "from lib.generate_decode import decode_vae\n",
    "from lib.metric import metrics_registry\n",
    "\n",
    "coco_data = load_data('/home/mdnikolaev/philurame/SDXL_METRICS/DATA', 'COCO', 100)\n",
    "pipe      = load_pipe(solver='DDIM', scheduler='LINEAR', cacher_quantizer='NONE', is_optimize=False, add_vae=True)\n",
    "\n",
    "res = {}\n",
    "\n",
    "for nbits in [16]:\n",
    "\n",
    "  # non-quantized metrics\n",
    "  if nbits == 16:\n",
    "    latents = torch.load('/home/mdnikolaev/philurame/SDXL_METRICS/DATA/NONE/COCO_50/DDIM_LINEAR.pt')[:100]\n",
    "    all_layers = get_linear_layers(pipe)\n",
    "    errors  = [torch.norm(W.weight).item() for W in all_layers]\n",
    "\n",
    "  # quantized metrics\n",
    "  else:\n",
    "    with open(f'/home/mdnikolaev/philurame/Experiments/QuantizationClip/RES/{nbits}.pkl', 'rb') as f:\n",
    "      errors_latents = pickle.load(f)\n",
    "      errors  = errors_latents['errors']\n",
    "      latents = errors_latents['fake_latents']\n",
    "      \n",
    "  # decode images\n",
    "  gen_imgs = decode_vae(pipe, latents)\n",
    "\n",
    "  # calc CLIP\n",
    "  clip = metrics_registry['CLIP'](fake_imgs = gen_imgs, real_anns = coco_data.anns)()\n",
    "\n",
    "  res[nbits] = {\n",
    "    'errors': errors,\n",
    "    'clip': clip\n",
    "  }\n",
    "\n",
    "import numpy as np\n",
    "import pandas as pd\n",
    "import json\n",
    "\n",
    "df = pd.DataFrame(columns=[])\n",
    "for nbits in [1,2,3,4,5,6,8]:\n",
    "  res[nbits]['errors'] = np.array(res[nbits]['errors']) ** 2 / np.array(res[16]['errors']) ** 2\n",
    "  df[f'errors[{nbits}]'] = res[nbits]['errors']\n",
    "\n",
    "df.to_csv('/home/mdnikolaev/philurame/Experiments/QuantizationClip/RES/ERRORS.csv')\n",
    "\n",
    "clips = {i:res[i]['clip'] for i in [1,2,3,4,5,6,8]}\n",
    "with open('/home/mdnikolaev/philurame/Experiments/QuantizationClip/RES/CLIP.json', 'w') as f:\n",
    "  json.dump(clips, f)"
   ]
  }
 ],
 "metadata": {
  "kernelspec": {
   "display_name": "Python (philurame_venv)",
   "language": "python",
   "name": "philurame_venv"
  },
  "language_info": {
   "codemirror_mode": {
    "name": "ipython",
    "version": 3
   },
   "file_extension": ".py",
   "mimetype": "text/x-python",
   "name": "python",
   "nbconvert_exporter": "python",
   "pygments_lexer": "ipython3",
   "version": "3.9.6"
  }
 },
 "nbformat": 4,
 "nbformat_minor": 2
}
